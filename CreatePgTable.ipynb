{
 "cells": [
  {
   "cell_type": "code",
   "execution_count": 17,
   "metadata": {
    "collapsed": false
   },
   "outputs": [],
   "source": [
    "import psycopg2\n",
    "#connect to pg\n",
    "conn = psycopg2.connect(\"dbname='foodmining' user='penolove' host='localhost' password='password'\")"
   ]
  },
  {
   "cell_type": "code",
   "execution_count": 4,
   "metadata": {
    "collapsed": false
   },
   "outputs": [],
   "source": [
    "#create table for Stores\n",
    "cur = conn.cursor()\n",
    "cur.execute(\"CREATE TABLE StoreTable( \\\n",
    "            storeId serial, \\\n",
    "            address text,    \\\n",
    "            storeName text,  \\\n",
    "            latlon text,     \\\n",
    "            count integer,   \\\n",
    "            PRIMARY KEY (latlon));\" \\\n",
    "           ); \n",
    "conn.commit()"
   ]
  },
  {
   "cell_type": "code",
   "execution_count": 11,
   "metadata": {
    "collapsed": false
   },
   "outputs": [
    {
     "ename": "InternalError",
     "evalue": "cannot drop table storetable because other objects depend on it\nDETAIL:  constraint articletable_latlon_fkey on table articletable depends on table storetable\nHINT:  Use DROP ... CASCADE to drop the dependent objects too.\n",
     "output_type": "error",
     "traceback": [
      "\u001b[1;31m---------------------------------------------------------------------------\u001b[0m",
      "\u001b[1;31mInternalError\u001b[0m                             Traceback (most recent call last)",
      "\u001b[1;32m<ipython-input-11-184513584f67>\u001b[0m in \u001b[0;36m<module>\u001b[1;34m()\u001b[0m\n\u001b[0;32m      1\u001b[0m \u001b[0mcur\u001b[0m \u001b[1;33m=\u001b[0m \u001b[0mconn\u001b[0m\u001b[1;33m.\u001b[0m\u001b[0mcursor\u001b[0m\u001b[1;33m(\u001b[0m\u001b[1;33m)\u001b[0m\u001b[1;33m\u001b[0m\u001b[0m\n\u001b[1;32m----> 2\u001b[1;33m \u001b[0mcur\u001b[0m\u001b[1;33m.\u001b[0m\u001b[0mexecute\u001b[0m\u001b[1;33m(\u001b[0m\u001b[1;34m\"Drop TABLE StoreTable\"\u001b[0m\u001b[1;33m)\u001b[0m\u001b[1;33m;\u001b[0m\u001b[1;33m\u001b[0m\u001b[0m\n\u001b[0m\u001b[0;32m      3\u001b[0m \u001b[0mconn\u001b[0m\u001b[1;33m.\u001b[0m\u001b[0mcommit\u001b[0m\u001b[1;33m(\u001b[0m\u001b[1;33m)\u001b[0m\u001b[1;33m\u001b[0m\u001b[0m\n",
      "\u001b[1;31mInternalError\u001b[0m: cannot drop table storetable because other objects depend on it\nDETAIL:  constraint articletable_latlon_fkey on table articletable depends on table storetable\nHINT:  Use DROP ... CASCADE to drop the dependent objects too.\n"
     ]
    }
   ],
   "source": [
    "cur = conn.cursor()\n",
    "cur.execute(\"Drop TABLE StoreTable\");\n",
    "conn.commit()"
   ]
  },
  {
   "cell_type": "code",
   "execution_count": 10,
   "metadata": {
    "collapsed": true
   },
   "outputs": [],
   "source": [
    "#Create table for articles\n",
    "cur = conn.cursor()\n",
    "cur.execute(\"CREATE TABLE ArticleTable( \\\n",
    "           articleID serial,\\\n",
    "           title text ,     \\\n",
    "           author text ,    \\\n",
    "           url text,        \\\n",
    "           date text,       \\\n",
    "           context text ,   \\\n",
    "           latlon text ,    \\\n",
    "           PRIMARY KEY (url),\\\n",
    "           FOREIGN KEY (latlon) REFERENCES StoreTable (latlon)\\\n",
    "            );\"\n",
    "           ); \n",
    "conn.commit()"
   ]
  },
  {
   "cell_type": "code",
   "execution_count": 9,
   "metadata": {
    "collapsed": false
   },
   "outputs": [],
   "source": [
    "cur = conn.cursor()\n",
    "cur.execute(\"Drop TABLE ArticleTable\");\n",
    "conn.commit()"
   ]
  },
  {
   "cell_type": "code",
   "execution_count": 23,
   "metadata": {
    "collapsed": false
   },
   "outputs": [],
   "source": [
    "#create table for Stores\n",
    "cur = conn.cursor()\n",
    "cur.execute(\"CREATE TABLE PushTable( \\\n",
    "            pushid serial, \\\n",
    "            url text,    \\\n",
    "            userid text,  \\\n",
    "            pushtag text,     \\\n",
    "            pushcontext text,   \\\n",
    "            PRIMARY KEY (url,userid,pushcontext),\\\n",
    "            FOREIGN KEY (url) REFERENCES ArticleTable (url)\\\n",
    "           );\" \\\n",
    "           ); \n",
    "conn.commit()"
   ]
  },
  {
   "cell_type": "code",
   "execution_count": 22,
   "metadata": {
    "collapsed": false
   },
   "outputs": [],
   "source": [
    "cur = conn.cursor()\n",
    "cur.execute(\"Drop TABLE PushTable\");\n",
    "conn.commit()"
   ]
  },
  {
   "cell_type": "code",
   "execution_count": 15,
   "metadata": {
    "collapsed": false
   },
   "outputs": [],
   "source": [
    "conn.close()"
   ]
  },
  {
   "cell_type": "code",
   "execution_count": null,
   "metadata": {
    "collapsed": true
   },
   "outputs": [],
   "source": [
    "FOREIGN KEY (so_id) REFERENCES so_headers (ID)"
   ]
  }
 ],
 "metadata": {
  "kernelspec": {
   "display_name": "Python [Root]",
   "language": "python",
   "name": "Python [Root]"
  },
  "language_info": {
   "codemirror_mode": {
    "name": "ipython",
    "version": 2
   },
   "file_extension": ".py",
   "mimetype": "text/x-python",
   "name": "python",
   "nbconvert_exporter": "python",
   "pygments_lexer": "ipython2",
   "version": "2.7.12"
  }
 },
 "nbformat": 4,
 "nbformat_minor": 0
}
