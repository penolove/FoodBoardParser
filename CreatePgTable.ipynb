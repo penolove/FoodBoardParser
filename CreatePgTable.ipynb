{
 "cells": [
  {
   "cell_type": "code",
   "execution_count": 1,
   "metadata": {
    "collapsed": false
   },
   "outputs": [],
   "source": [
    "import psycopg2\n",
    "#connect to pg\n",
    "conn = psycopg2.connect(\"dbname='foodmining' user='penolove' host='localhost' password='password'\")"
   ]
  },
  {
   "cell_type": "code",
   "execution_count": 4,
   "metadata": {
    "collapsed": false
   },
   "outputs": [],
   "source": [
    "#create table for Stores\n",
    "cur = conn.cursor()\n",
    "cur.execute(\"CREATE TABLE StoreTable( \\\n",
    "            storeId serial, \\\n",
    "            address text,    \\\n",
    "            storeName text,  \\\n",
    "            latlon text,     \\\n",
    "            count integer,   \\\n",
    "            PRIMARY KEY (latlon));\" \\\n",
    "           ); \n",
    "conn.commit()"
   ]
  },
  {
   "cell_type": "code",
   "execution_count": 3,
   "metadata": {
    "collapsed": false
   },
   "outputs": [],
   "source": [
    "cur = conn.cursor()\n",
    "cur.execute(\"Drop TABLE StoreTable\");\n",
    "conn.commit()"
   ]
  },
  {
   "cell_type": "code",
   "execution_count": 5,
   "metadata": {
    "collapsed": true
   },
   "outputs": [],
   "source": [
    "#Create table for articles\n",
    "cur = conn.cursor()\n",
    "cur.execute(\"CREATE TABLE ArticleTable( \\\n",
    "           articleID serial,\\\n",
    "           title text ,     \\\n",
    "           author text ,    \\\n",
    "           url text,        \\\n",
    "           date text,       \\\n",
    "           context text ,   \\\n",
    "           latlon text ,    \\\n",
    "           PRIMARY KEY (url),\\\n",
    "           FOREIGN KEY (latlon) REFERENCES StoreTable (latlon)\\\n",
    "            );\"\n",
    "           ); \n",
    "conn.commit()"
   ]
  },
  {
   "cell_type": "code",
   "execution_count": 9,
   "metadata": {
    "collapsed": false
   },
   "outputs": [],
   "source": [
    "cur = conn.cursor()\n",
    "cur.execute(\"Drop TABLE ArticleTable\");\n",
    "conn.commit()"
   ]
  },
  {
   "cell_type": "code",
   "execution_count": 6,
   "metadata": {
    "collapsed": false
   },
   "outputs": [],
   "source": [
    "#create table for Stores\n",
    "cur = conn.cursor()\n",
    "cur.execute(\"CREATE TABLE PushTable( \\\n",
    "            pushid serial, \\\n",
    "            url text,    \\\n",
    "            userid text,  \\\n",
    "            pushtag text,     \\\n",
    "            pushcontext text,   \\\n",
    "            PRIMARY KEY (url,userid,pushcontext),\\\n",
    "            FOREIGN KEY (url) REFERENCES ArticleTable (url)\\\n",
    "           );\" \\\n",
    "           ); \n",
    "conn.commit()"
   ]
  },
  {
   "cell_type": "code",
   "execution_count": 8,
   "metadata": {
    "collapsed": false
   },
   "outputs": [],
   "source": [
    "cur = conn.cursor()\n",
    "cur.execute(\"Drop TABLE PushTable\");\n",
    "conn.commit()"
   ]
  },
  {
   "cell_type": "code",
   "execution_count": 15,
   "metadata": {
    "collapsed": false
   },
   "outputs": [],
   "source": [
    "conn.close()"
   ]
  },
  {
   "cell_type": "code",
   "execution_count": 1,
   "metadata": {
    "collapsed": false
   },
   "outputs": [
    {
     "ename": "SyntaxError",
     "evalue": "invalid syntax (<ipython-input-1-4aabf06b4f7c>, line 1)",
     "output_type": "error",
     "traceback": [
      "\u001b[1;36m  File \u001b[1;32m\"<ipython-input-1-4aabf06b4f7c>\"\u001b[1;36m, line \u001b[1;32m1\u001b[0m\n\u001b[1;33m    FOREIGN KEY (so_id) REFERENCES so_headers (ID)\u001b[0m\n\u001b[1;37m              ^\u001b[0m\n\u001b[1;31mSyntaxError\u001b[0m\u001b[1;31m:\u001b[0m invalid syntax\n"
     ]
    }
   ],
   "source": [
    "FOREIGN KEY (so_id) REFERENCES so_headers (ID)"
   ]
  },
  {
   "cell_type": "code",
   "execution_count": 4,
   "metadata": {
    "collapsed": false
   },
   "outputs": [
    {
     "data": {
      "text/plain": [
       "3"
      ]
     },
     "execution_count": 4,
     "metadata": {},
     "output_type": "execute_result"
    }
   ],
   "source": [
    "a=['','','']\n",
    "\n",
    "len(a)\n"
   ]
  }
 ],
 "metadata": {
  "kernelspec": {
   "display_name": "Python [Root]",
   "language": "python",
   "name": "Python [Root]"
  },
  "language_info": {
   "codemirror_mode": {
    "name": "ipython",
    "version": 2
   },
   "file_extension": ".py",
   "mimetype": "text/x-python",
   "name": "python",
   "nbconvert_exporter": "python",
   "pygments_lexer": "ipython2",
   "version": "2.7.12"
  }
 },
 "nbformat": 4,
 "nbformat_minor": 0
}
