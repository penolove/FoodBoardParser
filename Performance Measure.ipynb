{
 "cells": [
  {
   "cell_type": "code",
   "execution_count": 7,
   "metadata": {
    "collapsed": true
   },
   "outputs": [],
   "source": [
    "import psycopg2\n",
    "import timeit"
   ]
  },
  {
   "cell_type": "code",
   "execution_count": 8,
   "metadata": {
    "collapsed": false
   },
   "outputs": [
    {
     "name": "stdout",
     "output_type": "stream",
     "text": [
      "calclute distance take :0.0378029346466s\n"
     ]
    }
   ],
   "source": [
    "conn = psycopg2.connect(\"dbname='foodmining' user='penolove' host='localhost' password='password'\")\n",
    "cur = conn.cursor()\n",
    "start = timeit.default_timer()\n",
    "cur.execute(\"\"\"select latlon,storename from storetable \\\n",
    "where (point(split_part(latlon, ',', 1)::numeric,split_part(latlon, ',', 2)::numeric)<@> point(25.0173405,121.53975179999998))<0.5\"\"\")\n",
    "rows = cur.fetchall()\n",
    "stop = timeit.default_timer()\n",
    "print \"calclute distance take :\"+str(stop - start) +\"s\"\n",
    "a=rows\n",
    "\n",
    "#25.0173405,121.53975179999998\n",
    "#24.7893351,120.9906655"
   ]
  },
  {
   "cell_type": "markdown",
   "metadata": {},
   "source": [
    "# Solution2 : select for loop"
   ]
  },
  {
   "cell_type": "code",
   "execution_count": 9,
   "metadata": {
    "collapsed": false
   },
   "outputs": [
    {
     "name": "stdout",
     "output_type": "stream",
     "text": [
      "Find child takes :1.19280290604s\n"
     ]
    }
   ],
   "source": [
    "r=[]\n",
    "start = timeit.default_timer()\n",
    "for i in a:\n",
    "    cur.execute(\"select title,url from articletable where latlon='\"+i[0]+\"'\")\n",
    "    rows = cur.fetchall()\n",
    "    r.append([i,(rows)])\n",
    "stop = timeit.default_timer()\n",
    "print \"Find child takes :\"+str(stop - start) +\"s\"\n",
    "#25.0173405,121.53975179999998\n",
    "#24.7893351,120.9906655"
   ]
  },
  {
   "cell_type": "markdown",
   "metadata": {},
   "source": [
    "# Solution2 : select in "
   ]
  },
  {
   "cell_type": "code",
   "execution_count": 10,
   "metadata": {
    "collapsed": false
   },
   "outputs": [
    {
     "name": "stdout",
     "output_type": "stream",
     "text": [
      "overall :0.139256000519s\n",
      "Find child takes :0.138590097427s\n",
      "python operations :0.000489950180054s\n"
     ]
    }
   ],
   "source": [
    "start = timeit.default_timer()\n",
    "start0 = timeit.default_timer()\n",
    "tempstr=\"\"\n",
    "count=1\n",
    "for i in a:\n",
    "    if(count!=len(a)):\n",
    "        tempstr+=\"'\"+i[0]+\"',\"\n",
    "    else:\n",
    "        tempstr+=\"'\"+i[0]+\"'\"\n",
    "    count+=1\n",
    "cur.execute(\"select title,url,latlon from articletable where latlon in (\"+tempstr+\")\")\n",
    "rows = cur.fetchall()\n",
    "stop0 = timeit.default_timer()\n",
    "\n",
    "start1= timeit.default_timer()\n",
    "rx=dict()\n",
    "for i in rows:\n",
    "    if(rx.get(i[2],0)==0):\n",
    "        rx[i[2]]=[i]\n",
    "    else:\n",
    "        rx[i[2]].append(i)\n",
    "r1=rx.items()\n",
    "stop1= timeit.default_timer()\n",
    "stop= timeit.default_timer()\n",
    "\n",
    "print \"overall :\"+str(stop - start) +\"s\"\n",
    "print \"Find child takes :\"+str(stop0 - start0) +\"s\"\n",
    "print \"python operations :\"+str(stop1 - start1) +\"s\"\n",
    "\n",
    "# much faster"
   ]
  },
  {
   "cell_type": "code",
   "execution_count": 11,
   "metadata": {
    "collapsed": true
   },
   "outputs": [],
   "source": [
    "conn.close()"
   ]
  },
  {
   "cell_type": "code",
   "execution_count": null,
   "metadata": {
    "collapsed": true
   },
   "outputs": [],
   "source": []
  }
 ],
 "metadata": {
  "kernelspec": {
   "display_name": "Python [Root]",
   "language": "python",
   "name": "Python [Root]"
  },
  "language_info": {
   "codemirror_mode": {
    "name": "ipython",
    "version": 2
   },
   "file_extension": ".py",
   "mimetype": "text/x-python",
   "name": "python",
   "nbconvert_exporter": "python",
   "pygments_lexer": "ipython2",
   "version": "2.7.12"
  }
 },
 "nbformat": 4,
 "nbformat_minor": 0
}
